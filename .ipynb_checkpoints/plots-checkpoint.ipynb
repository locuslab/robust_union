{
 "cells": [
  {
   "cell_type": "code",
   "execution_count": 1,
   "metadata": {},
   "outputs": [],
   "source": [
    "import pandas as pd"
   ]
  },
  {
   "cell_type": "code",
   "execution_count": 2,
   "metadata": {},
   "outputs": [],
   "source": [
    "import matplotlib \n",
    "matplotlib.use('svg')\n",
    "%matplotlib inline\n",
    "\n",
    "\n",
    "matplotlib.rcParams['font.size'] = 8\n",
    "matplotlib.rcParams['font.family'] = \"serif\"\n",
    "matplotlib.rcParams['font.sans-serif'] = \"Times New Roman\"\n",
    "import matplotlib.pyplot as plt"
   ]
  },
  {
   "cell_type": "markdown",
   "metadata": {},
   "source": [
    "# cifar10 msd"
   ]
  },
  {
   "cell_type": "code",
   "execution_count": 43,
   "metadata": {},
   "outputs": [
    {
     "data": {
      "image/png": "[encoded data removed]",
      "text/plain": [
       "<Figure size 108x108 with 1 Axes>"
      ]
     },
     "metadata": {},
     "output_type": "display_data"
    },
    {
     "data": {
      "image/png": "[encoded data removed]",
      "text/plain": [
       "<Figure size 108x108 with 1 Axes>"
      ]
     },
     "metadata": {},
     "output_type": "display_data"
    },
    {
     "data": {
      "image/png": "[encoded data removed]",
      "text/plain": [
       "<Figure size 108x108 with 1 Axes>"
      ]
     },
     "metadata": {},
     "output_type": "display_data"
    }
   ],
   "source": [
    "df = pd.read_csv('msd_cifar10.csv')\n",
    "\n",
    "for name in df:\n",
    "    if 'eps' in name: \n",
    "        df[name] = pd.to_numeric(df[name].map(lambda s: s[1:]))\n",
    "\n",
    "out_names = ['l1.pdf', 'l2.pdf', 'linf.pdf']\n",
    "names = [\"$\\ell_1$\", \"$\\ell_2$\", \"$\\ell_\\infty$\"]\n",
    "yticks = [\n",
    "    [0,0.2,0.4,0.6,0.8],\n",
    "    [0,0.2,0.4,0.6,0.8],\n",
    "    [0,0.2,0.4,0.6,0.8],\n",
    "]\n",
    "xticks = [\n",
    "    [0,25,50,75,100],\n",
    "    [0,1,2,3,4],\n",
    "    [0, 0.03, 0.06,0.09]\n",
    "]\n",
    "xlims = [\n",
    "    [0,100],\n",
    "    [0,4],\n",
    "    [0,0.1]\n",
    "]\n",
    "ylims = [\n",
    "    [0,0.8],\n",
    "    [0,0.8],\n",
    "    [0,0.8],\n",
    "]\n",
    "\n",
    "verticals = [\n",
    "    12, \n",
    "    0.3, \n",
    "    0.03\n",
    "]\n",
    "\n",
    "for i,(name,oname,xt,yt,xl,yl,vert) in enumerate(zip(names,out_names,xticks,yticks,xlims,ylims,verticals)): \n",
    "    fig, ax = plt.subplots(1, figsize=(1.5,1.5))\n",
    "    eps = df[df.columns[2*i]]\n",
    "    err = df[df.columns[2*i+1]]\n",
    "    ax.plot(eps, 1-err/1000)\n",
    "#     ax.plot([vert, vert], [-1,2], ':', color='gray')\n",
    "    ax.set_xlabel(f\"{name} radius\")\n",
    "    if i == 2: \n",
    "        ax.set_ylabel(\"Accuracy\")\n",
    "    if yt is not None: \n",
    "        ax.set_yticks(yt)\n",
    "    if xt is not None: \n",
    "        ax.set_xticks(xt)\n",
    "    if xl is not None: \n",
    "        ax.set_xlim(xl)\n",
    "    if yl is not None: \n",
    "        ax.set_ylim(yl)\n",
    "    ax.grid()\n",
    "#     plt.show()\n",
    "    plt.savefig(f'cifar10_msd_{oname}', bbox_inches='tight', pad_inches=0)\n",
    "#     print(oname)"
   ]
  },
  {
   "cell_type": "markdown",
   "metadata": {},
   "source": [
    "# cifar10 augment"
   ]
  },
  {
   "cell_type": "code",
   "execution_count": 91,
   "metadata": {},
   "outputs": [
    {
     "data": {
      "image/png": "[encoded data removed]",
      "text/plain": [
       "<Figure size 108x108 with 1 Axes>"
      ]
     },
     "metadata": {},
     "output_type": "display_data"
    },
    {
     "data": {
      "image/png": "[encoded data removed]",
      "text/plain": [
       "<Figure size 108x108 with 1 Axes>"
      ]
     },
     "metadata": {},
     "output_type": "display_data"
    },
    {
     "data": {
      "image/png": "[encoded data removed]",
      "text/plain": [
       "<Figure size 108x108 with 1 Axes>"
      ]
     },
     "metadata": {},
     "output_type": "display_data"
    }
   ],
   "source": [
    "df = pd.read_csv('augment_cifar10.csv')\n",
    "\n",
    "for name in df:\n",
    "    if 'eps' in name: \n",
    "        df[name] = pd.to_numeric(df[name].map(lambda s: s[1:]))\n",
    "\n",
    "out_names = ['l1.pdf', 'l2.pdf', 'linf.pdf']\n",
    "names = [\"$\\ell_1$\", \"$\\ell_2$\", \"$\\ell_\\infty$\"]\n",
    "yticks = [\n",
    "    [0,0.2,0.4,0.6,0.8],\n",
    "    [0,0.2,0.4,0.6,0.8],\n",
    "    [0,0.2,0.4,0.6,0.8],\n",
    "]\n",
    "xticks = [\n",
    "    [0,25,50,75,100],\n",
    "    [0,1,2,3,4],\n",
    "    [0, 0.03, 0.06,0.09]\n",
    "]\n",
    "xlims = [\n",
    "    [0,100],\n",
    "    [0,4],\n",
    "    [0,0.1]\n",
    "]\n",
    "ylims = [\n",
    "    [0,0.8],\n",
    "    [0,0.8],\n",
    "    [0,0.8],\n",
    "]\n",
    "\n",
    "verticals = [\n",
    "    12, \n",
    "    0.3, \n",
    "    0.03\n",
    "]\n",
    "\n",
    "for i,(name,oname,xt,yt,xl,yl,vert) in enumerate(zip(names,out_names,xticks,yticks,xlims,ylims,verticals)): \n",
    "    fig, ax = plt.subplots(1, figsize=(1.5,1.5))\n",
    "    eps = df[df.columns[2*i]]\n",
    "    err = df[df.columns[2*i+1]]\n",
    "    ax.plot(eps, 1-err/1000)\n",
    "#     ax.plot([vert, vert], [-1,2], ':', color='gray')\n",
    "    ax.set_xlabel(f\"{name} radius\")\n",
    "    if i == 2: \n",
    "        ax.set_ylabel(\"Accuracy\")\n",
    "    if yt is not None: \n",
    "        ax.set_yticks(yt)\n",
    "    if xt is not None: \n",
    "        ax.set_xticks(xt)\n",
    "    if xl is not None: \n",
    "        ax.set_xlim(xl)\n",
    "    if yl is not None: \n",
    "        ax.set_ylim(yl)\n",
    "    ax.grid()\n",
    "#     plt.show()\n",
    "    plt.savefig(f'cifar10_augment_{oname}', bbox_inches='tight', pad_inches=0)\n",
    "#     print(oname)"
   ]
  },
  {
   "cell_type": "markdown",
   "metadata": {},
   "source": [
    "# cifar10 worst"
   ]
  },
  {
   "cell_type": "code",
   "execution_count": 88,
   "metadata": {},
   "outputs": [
    {
     "data": {
      "image/png": "[encoded data removed]",
      "text/plain": [
       "<Figure size 108x108 with 1 Axes>"
      ]
     },
     "metadata": {},
     "output_type": "display_data"
    },
    {
     "data": {
      "image/png": "[encoded data removed]",
      "text/plain": [
       "<Figure size 108x108 with 1 Axes>"
      ]
     },
     "metadata": {},
     "output_type": "display_data"
    },
    {
     "data": {
      "image/png": "[encoded data removed]",
      "text/plain": [
       "<Figure size 108x108 with 1 Axes>"
      ]
     },
     "metadata": {},
     "output_type": "display_data"
    }
   ],
   "source": [
    "df = pd.read_csv('worst_cifar10.csv')\n",
    "\n",
    "for name in df:\n",
    "    if 'eps' in name: \n",
    "        df[name] = pd.to_numeric(df[name].map(lambda s: s[1:]))\n",
    "\n",
    "out_names = ['l1.pdf', 'l2.pdf', 'linf.pdf']\n",
    "names = [\"$\\ell_1$\", \"$\\ell_2$\", \"$\\ell_\\infty$\"]\n",
    "yticks = [\n",
    "    [0,0.2,0.4,0.6,0.8],\n",
    "    [0,0.2,0.4,0.6,0.8],\n",
    "    [0,0.2,0.4,0.6,0.8],\n",
    "]\n",
    "xticks = [\n",
    "    [0,25,50,75,100],\n",
    "    [0,1,2,3,4],\n",
    "    [0, 0.03, 0.06,0.09]\n",
    "]\n",
    "xlims = [\n",
    "    [0,100],\n",
    "    [0,4],\n",
    "    [0,0.1]\n",
    "]\n",
    "ylims = [\n",
    "    [0,0.8],\n",
    "    [0,0.8],\n",
    "    [0,0.8],\n",
    "]\n",
    "\n",
    "verticals = [\n",
    "    12, \n",
    "    0.3, \n",
    "    0.03\n",
    "]\n",
    "\n",
    "for i,(name,oname,xt,yt,xl,yl,vert) in enumerate(zip(names,out_names,xticks,yticks,xlims,ylims,verticals)): \n",
    "    fig, ax = plt.subplots(1, figsize=(1.5,1.5))\n",
    "    eps = df[df.columns[2*i]]\n",
    "    err = df[df.columns[2*i+1]]\n",
    "    ax.plot(eps, 1-err/1000)\n",
    "#     ax.plot([vert, vert], [-1,2], ':', color='gray')\n",
    "    ax.set_xlabel(f\"{name} radius\")\n",
    "    if i == 2: \n",
    "        ax.set_ylabel(\"Accuracy\")\n",
    "    if yt is not None: \n",
    "        ax.set_yticks(yt)\n",
    "    if xt is not None: \n",
    "        ax.set_xticks(xt)\n",
    "    if xl is not None: \n",
    "        ax.set_xlim(xl)\n",
    "    if yl is not None: \n",
    "        ax.set_ylim(yl)\n",
    "    ax.grid()\n",
    "#     plt.show()\n",
    "    plt.savefig(f'cifar10_worst_{oname}', bbox_inches='tight', pad_inches=0)\n",
    "#     print(oname)"
   ]
  },
  {
   "cell_type": "markdown",
   "metadata": {},
   "source": [
    "# Mnist msd"
   ]
  },
  {
   "cell_type": "code",
   "execution_count": 51,
   "metadata": {},
   "outputs": [
    {
     "data": {
      "image/png": "[encoded data removed]",
      "text/plain": [
       "<Figure size 108x108 with 1 Axes>"
      ]
     },
     "metadata": {},
     "output_type": "display_data"
    },
    {
     "data": {
      "image/png": "[encoded data removed]",
      "text/plain": [
       "<Figure size 108x108 with 1 Axes>"
      ]
     },
     "metadata": {},
     "output_type": "display_data"
    },
    {
     "data": {
      "image/png": "[encoded data removed]",
      "text/plain": [
       "<Figure size 108x108 with 1 Axes>"
      ]
     },
     "metadata": {},
     "output_type": "display_data"
    }
   ],
   "source": [
    "df = pd.read_csv('msd_mnist.csv')\n",
    "\n",
    "for name in df:\n",
    "    if 'eps' in name: \n",
    "        df[name] = pd.to_numeric(df[name].map(lambda s: s[1:]))\n",
    "\n",
    "out_names = ['l1.pdf', 'l2.pdf', 'linf.pdf']\n",
    "names = [\"$\\ell_1$\", \"$\\ell_2$\", \"$\\ell_\\infty$\"]\n",
    "yticks = [\n",
    "    [0,0.2,0.4,0.6,0.8,1],\n",
    "    [0,0.2,0.4,0.6,0.8,1],\n",
    "    [0,0.2,0.4,0.6,0.8,1],\n",
    "]\n",
    "xticks = [\n",
    "    [0,10,20,30],\n",
    "    [1,2,3,4,5], \n",
    "    [0.1,0.2,0.3,0.4]\n",
    "]\n",
    "xlims = [\n",
    "    [3,30],\n",
    "    [0.5,5], \n",
    "    [0.1,0.4]\n",
    "]\n",
    "ylims = [\n",
    "    [0,1],\n",
    "    [0,1],\n",
    "    [0,1],\n",
    "]\n",
    "\n",
    "verticals = [\n",
    "    12, \n",
    "    0.3, \n",
    "    0.03\n",
    "]\n",
    "\n",
    "for i,(name,oname,xt,yt,xl,yl,vert) in enumerate(zip(names,out_names,xticks,yticks,xlims,ylims,verticals)): \n",
    "    fig, ax = plt.subplots(1, figsize=(1.5,1.5))\n",
    "    eps = df[df.columns[2*i]]\n",
    "    err = df[df.columns[2*i+1]]\n",
    "    ax.plot(eps, 1-err/100)\n",
    "#     ax.plot([vert, vert], [-1,2], ':', color='gray')\n",
    "    ax.set_xlabel(f\"{name} radius\")\n",
    "    if i == 2: \n",
    "        ax.set_ylabel(\"Accuracy\")\n",
    "    if yt is not None: \n",
    "        ax.set_yticks(yt)\n",
    "    if xt is not None: \n",
    "        ax.set_xticks(xt)\n",
    "    if xl is not None: \n",
    "        ax.set_xlim(xl)\n",
    "    if yl is not None: \n",
    "        ax.set_ylim(yl)\n",
    "    ax.grid()\n",
    "#     plt.show()\n",
    "    plt.savefig(f'mnist_msd_{oname}', bbox_inches='tight', pad_inches=0)\n",
    "    #print(oname)"
   ]
  },
  {
   "cell_type": "markdown",
   "metadata": {},
   "source": [
    "# Mnist worst case"
   ]
  },
  {
   "cell_type": "code",
   "execution_count": 53,
   "metadata": {},
   "outputs": [
    {
     "data": {
      "image/png": "[encoded data removed]",
      "text/plain": [
       "<Figure size 108x108 with 1 Axes>"
      ]
     },
     "metadata": {},
     "output_type": "display_data"
    },
    {
     "data": {
      "image/png": "[encoded data removed]",
      "text/plain": [
       "<Figure size 108x108 with 1 Axes>"
      ]
     },
     "metadata": {},
     "output_type": "display_data"
    },
    {
     "data": {
      "image/png": "[encoded data removed]",
      "text/plain": [
       "<Figure size 108x108 with 1 Axes>"
      ]
     },
     "metadata": {},
     "output_type": "display_data"
    }
   ],
   "source": [
    "df = pd.read_csv('worst_mnist.csv')\n",
    "\n",
    "for name in df:\n",
    "    if 'eps' in name: \n",
    "        df[name] = pd.to_numeric(df[name].map(lambda s: s[1:]))\n",
    "        \n",
    "out_names = ['l1.pdf', 'l2.pdf', 'linf.pdf']\n",
    "names = [\"$\\ell_1$\", \"$\\ell_2$\", \"$\\ell_\\infty$\"]\n",
    "yticks = [\n",
    "    [0,0.2,0.4,0.6,0.8,1],\n",
    "    [0,0.2,0.4,0.6,0.8,1],\n",
    "    [0,0.2,0.4,0.6,0.8,1],\n",
    "]\n",
    "xticks = [\n",
    "    [0,10,20,30],\n",
    "    [1,2,3,4,5], \n",
    "    [0.1,0.2,0.3,0.4]\n",
    "]\n",
    "xlims = [\n",
    "    [3,30],\n",
    "    [0.5,5], \n",
    "    [0.1,0.4]\n",
    "]\n",
    "ylims = [\n",
    "    [0,1],\n",
    "    [0,1],\n",
    "    [0,1],\n",
    "]\n",
    "\n",
    "verticals = [\n",
    "    12, \n",
    "    0.3, \n",
    "    0.03\n",
    "]\n",
    "\n",
    "for i,(name,oname,xt,yt,xl,yl,vert) in enumerate(zip(names,out_names,xticks,yticks,xlims,ylims,verticals)): \n",
    "    fig, ax = plt.subplots(1, figsize=(1.5,1.5))\n",
    "    eps = df[df.columns[2*i]]\n",
    "    err = df[df.columns[2*i+1]]\n",
    "    ax.plot(eps, 1-err/10000)\n",
    "#     ax.plot([vert, vert], [-1,2], ':', color='gray')\n",
    "    ax.set_xlabel(f\"{name} radius\")\n",
    "    if i == 2: \n",
    "        ax.set_ylabel(\"Accuracy\")\n",
    "    if yt is not None: \n",
    "        ax.set_yticks(yt)\n",
    "    if xt is not None: \n",
    "        ax.set_xticks(xt)\n",
    "    if xl is not None: \n",
    "        ax.set_xlim(xl)\n",
    "    if yl is not None: \n",
    "        ax.set_ylim(yl)\n",
    "    ax.grid()\n",
    "#     plt.show()\n",
    "    plt.savefig(f'mnist_worst_{oname}', bbox_inches='tight', pad_inches=0)\n",
    "    #print(oname)"
   ]
  },
  {
   "cell_type": "markdown",
   "metadata": {},
   "source": [
    "# Mnist augment"
   ]
  },
  {
   "cell_type": "code",
   "execution_count": 55,
   "metadata": {},
   "outputs": [
    {
     "data": {
      "image/png": "[encoded data removed]",
      "text/plain": [
       "<Figure size 108x108 with 1 Axes>"
      ]
     },
     "metadata": {},
     "output_type": "display_data"
    },
    {
     "data": {
      "image/png": "[encoded data removed]",
      "text/plain": [
       "<Figure size 108x108 with 1 Axes>"
      ]
     },
     "metadata": {},
     "output_type": "display_data"
    },
    {
     "data": {
      "image/png": "[encoded data removed]",
      "text/plain": [
       "<Figure size 108x108 with 1 Axes>"
      ]
     },
     "metadata": {},
     "output_type": "display_data"
    }
   ],
   "source": [
    "df = pd.read_csv('augment_mnist.csv')\n",
    "\n",
    "for name in df:\n",
    "    if 'eps' in name: \n",
    "        df[name] = pd.to_numeric(df[name].map(lambda s: s[1:]))\n",
    "        \n",
    "out_names = ['l1.pdf', 'l2.pdf', 'linf.pdf']\n",
    "names = [\"$\\ell_1$\", \"$\\ell_2$\", \"$\\ell_\\infty$\"]\n",
    "yticks = [\n",
    "    [0,0.2,0.4,0.6,0.8,1],\n",
    "    [0,0.2,0.4,0.6,0.8,1],\n",
    "    [0,0.2,0.4,0.6,0.8,1],\n",
    "]\n",
    "xticks = [\n",
    "    [0,10,20,30],\n",
    "    [1,2,3,4,5], \n",
    "    [0.1,0.2,0.3,0.4]\n",
    "]\n",
    "xlims = [\n",
    "    [3,30],\n",
    "    [0.5,5], \n",
    "    [0.1,0.4]\n",
    "]\n",
    "ylims = [\n",
    "    [0,1],\n",
    "    [0,1],\n",
    "    [0,1],\n",
    "]\n",
    "\n",
    "verticals = [\n",
    "    12, \n",
    "    0.3, \n",
    "    0.03\n",
    "]\n",
    "\n",
    "for i,(name,oname,xt,yt,xl,yl,vert) in enumerate(zip(names,out_names,xticks,yticks,xlims,ylims,verticals)): \n",
    "    fig, ax = plt.subplots(1, figsize=(1.5,1.5))\n",
    "    eps = df[df.columns[2*i]]\n",
    "    err = df[df.columns[2*i+1]]\n",
    "    ax.plot(eps, 1-err/10000)\n",
    "#     ax.plot([vert, vert], [-1,2], ':', color='gray')\n",
    "    ax.set_xlabel(f\"{name} radius\")\n",
    "    if i == 2: \n",
    "        ax.set_ylabel(\"Accuracy\")\n",
    "    if yt is not None: \n",
    "        ax.set_yticks(yt)\n",
    "    if xt is not None: \n",
    "        ax.set_xticks(xt)\n",
    "    if xl is not None: \n",
    "        ax.set_xlim(xl)\n",
    "    if yl is not None: \n",
    "        ax.set_ylim(yl)\n",
    "    ax.grid()\n",
    "#     plt.show()\n",
    "    plt.savefig(f'mnist_augment_{oname}', bbox_inches='tight', pad_inches=0)\n",
    "    #print(oname)"
   ]
  },
  {
   "cell_type": "markdown",
   "metadata": {},
   "source": [
    "# all in one"
   ]
  },
  {
   "cell_type": "code",
   "execution_count": 83,
   "metadata": {},
   "outputs": [
    {
     "name": "stdout",
     "output_type": "stream",
     "text": [
      "l1.pdf\n",
      "l2.pdf\n",
      "linf.pdf\n"
     ]
    },
    {
     "data": {
      "image/png": "[encoded data removed]",
      "text/plain": [
       "<Figure size 108x108 with 1 Axes>"
      ]
     },
     "metadata": {},
     "output_type": "display_data"
    },
    {
     "data": {
      "image/png": "[encoded data removed]",
      "text/plain": [
       "<Figure size 108x108 with 1 Axes>"
      ]
     },
     "metadata": {},
     "output_type": "display_data"
    },
    {
     "data": {
      "image/png": "[encoded data removed]",
      "text/plain": [
       "<Figure size 108x108 with 1 Axes>"
      ]
     },
     "metadata": {},
     "output_type": "display_data"
    }
   ],
   "source": [
    "figs = [\n",
    "    plt.subplots(1, figsize=(1.5,1.5)), \n",
    "    plt.subplots(1, figsize=(1.5,1.5)), \n",
    "    plt.subplots(1, figsize=(1.5,1.5)),     \n",
    "]\n",
    "\n",
    "        \n",
    "out_names = ['l1.pdf', 'l2.pdf', 'linf.pdf']\n",
    "names = [\"$\\ell_1$\", \"$\\ell_2$\", \"$\\ell_\\infty$\"]\n",
    "yticks = [\n",
    "    [0,0.2,0.4,0.6,0.8,1],\n",
    "    [0,0.2,0.4,0.6,0.8,1],\n",
    "    [0,0.2,0.4,0.6,0.8,1],\n",
    "]\n",
    "xticks = [\n",
    "    [0,10,20,30],\n",
    "    [1,2,3,4,5], \n",
    "    [0.1,0.2,0.3,0.4]\n",
    "]\n",
    "xlims = [\n",
    "    [3,30],\n",
    "    [0.5,5], \n",
    "    [0.1,0.4]\n",
    "]\n",
    "ylims = [\n",
    "    [0,1],\n",
    "    [0,1],\n",
    "    [0,1],\n",
    "]\n",
    "\n",
    "verticals = [\n",
    "    12, \n",
    "    0.3, \n",
    "    0.03\n",
    "]\n",
    "\n",
    "for model in ['msd', 'worst', 'augment']: \n",
    "#['msd_mnist.csv', 'worst_mnist.csv', 'augment_mnist.csv']: \n",
    "    df = pd.read_csv(f'{model}_mnist.csv')\n",
    "\n",
    "    for name in df:\n",
    "        if 'eps' in name: \n",
    "            df[name] = pd.to_numeric(df[name].map(lambda s: s[1:]))\n",
    "\n",
    "    for i,(name,oname,xt,yt,xl,yl,vert) in enumerate(zip(names,out_names,xticks,yticks,xlims,ylims,verticals)): \n",
    "        fig, ax = figs[i]\n",
    "        eps = df[df.columns[2*i]]\n",
    "        err = df[df.columns[2*i+1]]\n",
    "        if model == 'msd': \n",
    "            ax.plot(eps, 1-err/100)\n",
    "        else:\n",
    "            ax.plot(eps, 1-err/10000)\n",
    "    #     ax.plot([vert, vert], [-1,2], ':', color='gray')\n",
    "        ax.set_xlabel(f\"{name} radius\")\n",
    "        if i == 2: \n",
    "            ax.set_ylabel(\"Accuracy\")\n",
    "        if yt is not None: \n",
    "            ax.set_yticks(yt)\n",
    "        if xt is not None: \n",
    "            ax.set_xticks(xt)\n",
    "        if xl is not None: \n",
    "            ax.set_xlim(xl)\n",
    "        if yl is not None: \n",
    "            ax.set_ylim(yl)\n",
    "        ax.grid()\n",
    "    #     plt.show()\n",
    "#         plt.savefig(f'mnist_worst_{oname}', bbox_inches='tight', pad_inches=0)\n",
    "        #print(oname)\n",
    "\n",
    "for (fig,ax),oname in zip(figs,out_names): \n",
    "#     ax.legend(('MSD', 'Worst-PGD', 'PGD-Augment'))\n",
    "    print(oname)\n",
    "    fig.savefig(f'mnist_{oname}', bbox_inches='tight', pad_inches=0)"
   ]
  },
  {
   "cell_type": "code",
   "execution_count": 80,
   "metadata": {},
   "outputs": [
    {
     "data": {
      "image/png": "[encoded data removed]",
      "text/plain": [
       "<Figure size 432x288 with 1 Axes>"
      ]
     },
     "metadata": {},
     "output_type": "display_data"
    },
    {
     "data": {
      "text/plain": [
       "<Figure size 144x7.2 with 0 Axes>"
      ]
     },
     "metadata": {},
     "output_type": "display_data"
    }
   ],
   "source": [
    "labels = ('MSD', 'Worst-PGD', 'PGD-Augment')\n",
    "fig = plt.figure()\n",
    "fig_legend = plt.figure(figsize=(2, 0.1))\n",
    "ax = fig.add_subplot(111)\n",
    "lines = ax.plot(range(2), range(2), range(2), range(2), range(2), range(2), range(2), range(2))\n",
    "fig_legend.legend(lines, labels, loc='center', frameon=False, ncol=3)\n",
    "plt.show()"
   ]
  },
  {
   "cell_type": "code",
   "execution_count": 81,
   "metadata": {
    "collapsed": true
   },
   "outputs": [],
   "source": [
    "fig_legend.savefig('legend.pdf', bbox_inches='tight', pad_inches=0)"
   ]
  },
  {
   "cell_type": "markdown",
   "metadata": {},
   "source": [
    "# cifar all"
   ]
  },
  {
   "cell_type": "code",
   "execution_count": 86,
   "metadata": {
    "scrolled": false
   },
   "outputs": [
    {
     "name": "stdout",
     "output_type": "stream",
     "text": [
      "l1.pdf\n",
      "l2.pdf\n",
      "linf.pdf\n"
     ]
    },
    {
     "data": {
      "image/png": "[encoded data removed]",
      "text/plain": [
       "<Figure size 108x108 with 1 Axes>"
      ]
     },
     "metadata": {},
     "output_type": "display_data"
    },
    {
     "data": {
      "image/png": "[encoded data removed]",
      "text/plain": [
       "<Figure size 108x108 with 1 Axes>"
      ]
     },
     "metadata": {},
     "output_type": "display_data"
    },
    {
     "data": {
      "image/png": "[encoded data removed]",
      "text/plain": [
       "<Figure size 108x108 with 1 Axes>"
      ]
     },
     "metadata": {},
     "output_type": "display_data"
    }
   ],
   "source": [
    "figs = [\n",
    "    plt.subplots(1, figsize=(1.5,1.5)), \n",
    "    plt.subplots(1, figsize=(1.5,1.5)), \n",
    "    plt.subplots(1, figsize=(1.5,1.5)),     \n",
    "]\n",
    "\n",
    "        \n",
    "out_names = ['l1.pdf', 'l2.pdf', 'linf.pdf']\n",
    "names = [\"$\\ell_1$\", \"$\\ell_2$\", \"$\\ell_\\infty$\"]\n",
    "yticks = [\n",
    "    [0,0.2,0.4,0.6,0.8],\n",
    "    [0,0.2,0.4,0.6,0.8],\n",
    "    [0,0.2,0.4,0.6,0.8],\n",
    "]\n",
    "xticks = [\n",
    "    [0,25,50,75,100],\n",
    "    [0,1,2,3,4],\n",
    "    [0, 0.03, 0.06,0.09]\n",
    "]\n",
    "xlims = [\n",
    "    [0,100],\n",
    "    [0,4],\n",
    "    [0,0.1]\n",
    "]\n",
    "ylims = [\n",
    "    [0,0.8],\n",
    "    [0,0.8],\n",
    "    [0,0.8],\n",
    "]\n",
    "\n",
    "\n",
    "verticals = [\n",
    "    12, \n",
    "    0.3, \n",
    "    0.03\n",
    "]\n",
    "\n",
    "for model in ['msd', 'worst', 'augment']: \n",
    "#['msd_mnist.csv', 'worst_mnist.csv', 'augment_mnist.csv']: \n",
    "    df = pd.read_csv(f'{model}_cifar10.csv')\n",
    "\n",
    "    for name in df:\n",
    "        if 'eps' in name: \n",
    "            df[name] = pd.to_numeric(df[name].map(lambda s: s[1:]))\n",
    "\n",
    "    for i,(name,oname,xt,yt,xl,yl,vert) in enumerate(zip(names,out_names,xticks,yticks,xlims,ylims,verticals)): \n",
    "        fig, ax = figs[i]\n",
    "        eps = df[df.columns[2*i]]\n",
    "        err = df[df.columns[2*i+1]]\n",
    "#         if model == 'msd': \n",
    "#             ax.plot(eps, 1-err/100)\n",
    "#         else:\n",
    "        ax.plot(eps, 1-err/1000)\n",
    "    #     ax.plot([vert, vert], [-1,2], ':', color='gray')\n",
    "        ax.set_xlabel(f\"{name} radius\")\n",
    "        if i == 2: \n",
    "            ax.set_ylabel(\"Accuracy\")\n",
    "        if yt is not None: \n",
    "            ax.set_yticks(yt)\n",
    "        if xt is not None: \n",
    "            ax.set_xticks(xt)\n",
    "        if xl is not None: \n",
    "            ax.set_xlim(xl)\n",
    "        if yl is not None: \n",
    "            ax.set_ylim(yl)\n",
    "        ax.grid()\n",
    "    #     plt.show()\n",
    "#         plt.savefig(f'mnist_worst_{oname}', bbox_inches='tight', pad_inches=0)\n",
    "        #print(oname)\n",
    "\n",
    "for (fig,ax),oname in zip(figs,out_names): \n",
    "#     ax.legend(('MSD', 'Worst-PGD', 'PGD-Augment'))\n",
    "    print(oname)\n",
    "    fig.savefig(f'cifar10_{oname}', bbox_inches='tight', pad_inches=0)"
   ]
  },
  {
   "cell_type": "code",
   "execution_count": null,
   "metadata": {
    "collapsed": true
   },
   "outputs": [],
   "source": []
  }
 ],
 "metadata": {
  "kernelspec": {
   "display_name": "Python 3",
   "language": "python",
   "name": "python3"
  },
  "language_info": {
   "codemirror_mode": {
    "name": "ipython",
    "version": 3
   },
   "file_extension": ".py",
   "mimetype": "text/x-python",
   "name": "python",
   "nbconvert_exporter": "python",
   "pygments_lexer": "ipython3",
   "version": "3.5.2"
  }
 },
 "nbformat": 4,
 "nbformat_minor": 2
}
